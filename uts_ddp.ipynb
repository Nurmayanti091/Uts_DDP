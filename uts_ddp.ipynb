{
  "nbformat": 4,
  "nbformat_minor": 0,
  "metadata": {
    "colab": {
      "provenance": [],
      "authorship_tag": "ABX9TyOgi50VdXvmaz89o9HQxEjy",
      "include_colab_link": true
    },
    "kernelspec": {
      "name": "python3",
      "display_name": "Python 3"
    },
    "language_info": {
      "name": "python"
    }
  },
  "cells": [
    {
      "cell_type": "markdown",
      "metadata": {
        "id": "view-in-github",
        "colab_type": "text"
      },
      "source": [
        "<a href=\"https://colab.research.google.com/github/Nurmayanti091/Uts_DDP/blob/main/uts_ddp.ipynb\" target=\"_parent\"><img src=\"https://colab.research.google.com/assets/colab-badge.svg\" alt=\"Open In Colab\"/></a>"
      ]
    },
    {
      "cell_type": "code",
      "source": [
        "\n",
        "def LayangLayangArea(d1, d2):\n",
        "    return 0.5 * d1 * d2\n",
        "\n",
        "def LayangLayangParimeter(d1, d2):\n",
        "    return 2 * (d1 + d2)\n",
        "\n",
        "def TrapesiumArea(a, b, t):\n",
        "    return 0.5 * (a + b) * t\n",
        "\n",
        "def TrapesiumParimeter(a, b):\n",
        "    return 2 * (a + b)\n",
        "\n",
        "# input\n",
        "nim = int(input(\"Masukkan NIM: \"))\n",
        "d1 = float(input(\"Masukkan panjang diagonal 1: \"))\n",
        "d2 = float(input(\"Masukkan panjang diagonal 2: \"))\n",
        "a = float(input(\"Masukkan panjang alas: \"))\n",
        "b = float(input(\"Masukkan panjang sisi sejajar: \"))\n",
        "h = float(input(\"Masukkan tinggi: \"))\n",
        "\n",
        "# cek nim\n",
        "\n",
        "if nim % 2 == 0:  # NIM genap, trapesium\n",
        "    area = TrapesiumArea(a, b, t)\n",
        "    perimeter = TrapesiumParimeter(a, b)\n",
        "    Ukuran= \"Trapesium\"\n",
        "else:  # NIM ganjil, layang-layang\n",
        "    area = LayangLayangArea(d1, d2)\n",
        "    perimeter = LayangLayangParimeter(d1, d2)\n",
        "    Ukuran= \"Layang-layang\"\n",
        "\n",
        "#output\n",
        "\n",
        "print(f\"Luas {Ukuran}: {area}\")\n",
        "print(f\"Keliling {Ukuran}: {perimeter}\")"
      ],
      "metadata": {
        "colab": {
          "base_uri": "https://localhost:8080/"
        },
        "id": "yvGJlfiOVqiX",
        "outputId": "abc7169e-f8b6-4c7e-b727-ef3ccb1986e4"
      },
      "execution_count": null,
      "outputs": [
        {
          "output_type": "stream",
          "name": "stdout",
          "text": [
            "Masukkan NIM: 09\n",
            "Masukkan panjang diagonal 1: 2\n",
            "Masukkan panjang diagonal 2: 2\n",
            "Masukkan panjang alas: 3\n",
            "Masukkan panjang sisi sejajar: 1\n",
            "Masukkan tinggi: 2\n",
            "Luas Layang-layang: 2.0\n",
            "Keliling Layang-layang: 8.0\n"
          ]
        }
      ]
    },
    {
      "cell_type": "code",
      "source": [
        "def tambah(a, b):\n",
        "    return a + b\n",
        "\n",
        "def kurang(c, d):\n",
        "    return c- d\n",
        "\n",
        "def kali(p, q):\n",
        "    return p * q\n",
        "\n",
        "def bagi(r, s):\n",
        "    if y != 0:\n",
        "        return r / s\n",
        "    else:\n",
        "        return \"Error\"\n",
        "\n",
        "# Input dari pengguna\n",
        "angka1 = float(input(\"angka pertama: \"))\n",
        "operator_simbol = input(\"operator (+, -, *, /): \")\n",
        "angka2 = float(input(\"angka kedua: \"))\n",
        "\n",
        "# Proses operasi\n",
        "\n",
        "if operator_simbol == \"+\":\n",
        "    hasil = tambah(angka1, angka2)\n",
        "elif operator_simbol== \"-\":\n",
        "    hasil = kurang(angka1, angka2)\n",
        "elif operator_simbol== \"*\":\n",
        "    hasil = kali(angka1, angka2)\n",
        "elif operator_simbol == \"/\":\n",
        "    hasil = bagi(angka1, angka2)\n",
        "\n",
        "else:\n",
        "    hasil = \"Error\"\n",
        "\n",
        "# Output hasil\n",
        "print(f\"Hasil: {hasil}\")"
      ],
      "metadata": {
        "colab": {
          "base_uri": "https://localhost:8080/"
        },
        "id": "_XwKolXTdiiZ",
        "outputId": "331a5d55-6c89-4287-9573-6f722f7240f9"
      },
      "execution_count": null,
      "outputs": [
        {
          "output_type": "stream",
          "name": "stdout",
          "text": [
            "angka pertama: 5\n",
            "operator (+, -, *, /): *\n",
            "angka kedua: 5\n",
            "Hasil: 25.0\n"
          ]
        }
      ]
    }
  ]
}